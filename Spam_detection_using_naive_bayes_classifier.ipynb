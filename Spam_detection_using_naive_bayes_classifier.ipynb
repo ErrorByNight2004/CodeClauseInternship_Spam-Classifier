{
  "cells": [
    {
      "cell_type": "markdown",
      "metadata": {
        "id": "view-in-github",
        "colab_type": "text"
      },
      "source": [
        "<a href=\"https://colab.research.google.com/github/ErrorByNight2004/CodeClauseInternship_Spam-Classifier/blob/main/Copy_of_spam_detection_using_naive_bayes_classifier.ipynb\" target=\"_parent\"><img src=\"https://colab.research.google.com/assets/colab-badge.svg\" alt=\"Open In Colab\"/></a>"
      ]
    },
    {
      "cell_type": "code",
      "execution_count": null,
      "metadata": {
        "_cell_guid": "b1076dfc-b9ad-4769-8c92-a6c4dae69d19",
        "_uuid": "8f2839f25d086af736a60e9eeb907d3b93b6e0e5",
        "trusted": true,
        "id": "waAUxGZk8qdS"
      },
      "outputs": [],
      "source": [
        "# This Python 3 environment comes with many helpful analytics libraries installed\n",
        "# It is defined by the kaggle/python docker image: https://github.com/kaggle/docker-python\n",
        "# For example, here's several helpful packages to load in\n",
        "\n",
        "import numpy as np # linear algebra\n",
        "import pandas as pd # data processing, CSV file I/O (e.g. pd.read_csv)\n",
        "\n",
        "# Input data files are available in the \"../input/\" directory.\n",
        "# For example, running this (by clicking run or pressing Shift+Enter) will list the files in the input directory\n",
        "\n",
        "import os\n",
        "print(os.listdir(\"../input\"))\n",
        "\n",
        "# Any results you write to the current directory are saved as output."
      ]
    },
    {
      "cell_type": "code",
      "execution_count": null,
      "metadata": {
        "_uuid": "9729bb06b2b6dd3e6f303360ce5d2862d680931d",
        "trusted": true,
        "id": "4cJd7VXG8qdW"
      },
      "outputs": [],
      "source": [
        "for message_no,message in enumerate(message[:10]):\n",
        "    print(message_no,message)\n",
        "    print('\\n')"
      ]
    },
    {
      "cell_type": "code",
      "execution_count": null,
      "metadata": {
        "_uuid": "3fab10da97dc29ece0b8dc82db5c5f586198fb10",
        "trusted": true,
        "id": "K9h5FJV68qdX"
      },
      "outputs": [],
      "source": [
        "import pandas as pd"
      ]
    },
    {
      "cell_type": "code",
      "execution_count": null,
      "metadata": {
        "_uuid": "5ee4f24254d3ae65f5fd0462a7beb0790f6ef335",
        "trusted": true,
        "id": "INQzclIz8qdX"
      },
      "outputs": [],
      "source": [
        "message=pd.read_csv('../input/SpamCollection',sep='\\t',names=[\"labels\",\"message\"])\n",
        "message.head()"
      ]
    },
    {
      "cell_type": "markdown",
      "metadata": {
        "_uuid": "67ee5d48e9f8ac6d1e646c799dd45ec37af5e825",
        "id": "LkCEqx6s8qdY"
      },
      "source": [
        "## Exploratory Data Analysis"
      ]
    },
    {
      "cell_type": "code",
      "execution_count": null,
      "metadata": {
        "_uuid": "6c7450eda9733db033403e4ae536876b4e9bb151",
        "trusted": true,
        "id": "LZ8jNueL8qdZ"
      },
      "outputs": [],
      "source": [
        "message.describe()"
      ]
    },
    {
      "cell_type": "code",
      "execution_count": null,
      "metadata": {
        "_uuid": "dc7dccd0999c9a3efb2de51017be117f5e104b5b",
        "trusted": true,
        "id": "OF5Zc6y78qda"
      },
      "outputs": [],
      "source": [
        "message.groupby('labels').describe()"
      ]
    },
    {
      "cell_type": "markdown",
      "metadata": {
        "_uuid": "433d971e0b7d43dd4ce2b11bcfea9e562cac30a0",
        "id": "7U6B9uY-8qdb"
      },
      "source": [
        "As we continue our analysis we want to start thinking about the features we are going to be using. This goes along with the general idea of [feature engineering](https://en.wikipedia.org/wiki/Feature_engineering). The better your domain knowledge on the data, the better your ability to engineer more features from it. Feature engineering is a very large part of spam detection in general. I encourage you to read up on the topic!\n",
        "\n",
        "Let's make a new column to detect how long the text messages are:"
      ]
    },
    {
      "cell_type": "code",
      "execution_count": null,
      "metadata": {
        "_uuid": "4ea80a382f1f748b6f0c61c37bac58c3bb4aa1bb",
        "trusted": true,
        "id": "w4sDrl3V8qdc"
      },
      "outputs": [],
      "source": [
        "message['length']=message['message'].apply(len)\n",
        "message.head()"
      ]
    },
    {
      "cell_type": "markdown",
      "metadata": {
        "_uuid": "f5a51c4b8fc0eeafc40dd1bd401aa366800dca8d",
        "id": "aOLZITt58qdc"
      },
      "source": [
        "### Data Visualization\n",
        "Let's visualize this! Let's do the imports:"
      ]
    },
    {
      "cell_type": "code",
      "execution_count": null,
      "metadata": {
        "_uuid": "687ad4261e619dc120bdff4f20ecd69dcaa95c1f",
        "trusted": true,
        "id": "TOIH_a2O8qdd"
      },
      "outputs": [],
      "source": [
        "import matplotlib.pyplot as plt\n",
        "import seaborn as sns\n",
        "%matplotlib inline"
      ]
    },
    {
      "cell_type": "code",
      "execution_count": null,
      "metadata": {
        "_uuid": "275ea822b0c6bef20b23f2724138da1faa46fd5d",
        "trusted": true,
        "id": "9DYH4a-98qdd"
      },
      "outputs": [],
      "source": [
        "message['length'].plot(bins=50,kind='hist')"
      ]
    },
    {
      "cell_type": "code",
      "execution_count": null,
      "metadata": {
        "_uuid": "4d7658a542ab863a2d9f96726e4cfa2d901f2763",
        "trusted": true,
        "id": "Q3Wz0ZIz8qdd"
      },
      "outputs": [],
      "source": [
        "message.length.describe()"
      ]
    },
    {
      "cell_type": "markdown",
      "metadata": {
        "_uuid": "abd4b8d46edb4450be3cb2169173f4a3c9e5ce63",
        "id": "0T8mg3hc8qdd"
      },
      "source": [
        "Woah! 910 characters, let's use masking to find this message:"
      ]
    },
    {
      "cell_type": "code",
      "execution_count": null,
      "metadata": {
        "_uuid": "3fb6c3ea1a7bc996e841851bbf0186512f1ca108",
        "trusted": true,
        "id": "hUAxHykv8qdd"
      },
      "outputs": [],
      "source": [
        "message[message['length']==910]['message'].iloc[0]"
      ]
    },
    {
      "cell_type": "markdown",
      "metadata": {
        "_uuid": "bc5af0471b6ba34939d3bc29674bea69dd951670",
        "id": "72ihxcuL8qde"
      },
      "source": [
        "Looks like we have some sort of Romeo sending texts! But let's focus back on the idea of trying to see if message length is a distinguishing feature between ham and spam"
      ]
    },
    {
      "cell_type": "markdown",
      "metadata": {
        "_uuid": "1992213dcf47852ec603874ddaa4c820b94dae65",
        "id": "cypdkwnF8qde"
      },
      "source": [
        "## Text Pre-processing"
      ]
    },
    {
      "cell_type": "markdown",
      "metadata": {
        "_uuid": "69b6b489cd005118861e2806a623d68863b5a2ac",
        "id": "WQrLjRE58qde"
      },
      "source": [
        "Our main issue with our data is that it is all in text format (strings). The classification algorithms that we've learned about so far will need some sort of numerical feature vector in order to perform the classification task. There are actually many methods to convert a corpus to a vector format. The simplest is the the [bag-of-words](http://en.wikipedia.org/wiki/Bag-of-words_model) approach, where each unique word in a text will be represented by one number.\n",
        "\n",
        "\n",
        "In this section we'll convert the raw messages (sequence of characters) into vectors (sequences of numbers).\n",
        "\n",
        "As a first step, let's write a function that will split a message into its individual words and return a list. We'll also remove very common words, ('the', 'a', etc..). To do this we will take advantage of the NLTK library. It's pretty much the standard library in Python for processing text and has a lot of useful features. We'll only use some of the basic ones here.\n",
        "\n",
        "Let's create a function that will process the string in the message column, then we can just use **apply()** in pandas do process all the text in the DataFrame.\n",
        "\n",
        "First removing punctuation. We can just take advantage of Python's built-in **string** library to get a quick list of all the possible punctuation:"
      ]
    },
    {
      "cell_type": "code",
      "execution_count": null,
      "metadata": {
        "_uuid": "76e62c93d7140b9fcded80fd9db639ba36d0d64f",
        "trusted": true,
        "id": "w5QDvP8O8qde"
      },
      "outputs": [],
      "source": [
        "import string\n",
        "mess = 'sample message!...'\n",
        "nopunc=[char for char in mess if char not in string.punctuation]\n",
        "nopunc=''.join(nopunc)\n",
        "print(nopunc)"
      ]
    },
    {
      "cell_type": "code",
      "execution_count": null,
      "metadata": {
        "_uuid": "91421244873b355b3a3e238e511509bb4fa0bac9",
        "trusted": true,
        "id": "XoB3AiwM8qde"
      },
      "outputs": [],
      "source": [
        "from nltk.corpus import stopwords\n",
        "stopwords.words('english')[0:10]"
      ]
    },
    {
      "cell_type": "code",
      "execution_count": null,
      "metadata": {
        "_uuid": "f57823dbc67dad7eee3c9190d8fb9e2d2cb904dc",
        "trusted": true,
        "id": "ChUjOuS18qde"
      },
      "outputs": [],
      "source": [
        "nopunc.split()"
      ]
    },
    {
      "cell_type": "code",
      "execution_count": null,
      "metadata": {
        "_uuid": "04b34096fb9c324127ff5e6719311830bd87b338",
        "trusted": true,
        "id": "BuxdOX2B8qdf"
      },
      "outputs": [],
      "source": [
        "clean_mess=[word for word in nopunc.split() if word.lower() not in stopwords.words('english')]"
      ]
    },
    {
      "cell_type": "code",
      "execution_count": null,
      "metadata": {
        "_uuid": "83d0c9fd3c40620eb8bf9f1b5d27210a4457ae30",
        "trusted": true,
        "id": "79fAR-ST8qdf"
      },
      "outputs": [],
      "source": [
        "clean_mess"
      ]
    },
    {
      "cell_type": "markdown",
      "metadata": {
        "_uuid": "45d5d17fb78f3098ea2c15143860922b25fc29d2",
        "id": "YHdjikfw8qdf"
      },
      "source": [
        "Now let's put both of these together in a function to apply it to our DataFrame later on:"
      ]
    },
    {
      "cell_type": "code",
      "execution_count": null,
      "metadata": {
        "_uuid": "8ee6f7fc69b9efe438ba695c806d0c1f89bbe6e5",
        "trusted": true,
        "id": "t8-sZRi28qdf"
      },
      "outputs": [],
      "source": [
        "def text_process(mess):\n",
        "    nopunc =[char for char in mess if char not in string.punctuation]\n",
        "    nopunc=''.join(nopunc)\n",
        "    return [word for word in nopunc.split() if word.lower() not in stopwords.words('english')]"
      ]
    },
    {
      "cell_type": "markdown",
      "metadata": {
        "_uuid": "b394fbbba09ad10834903ae7c2bb15e1cc97d591",
        "id": "DjPBmHnR8qdf"
      },
      "source": [
        "Here is the original DataFrame again:"
      ]
    },
    {
      "cell_type": "code",
      "execution_count": null,
      "metadata": {
        "_uuid": "77eaa612dede5c0b89ceafbdc6e4f1e803f872b9",
        "trusted": true,
        "id": "PgCz1_NI8qdf"
      },
      "outputs": [],
      "source": [
        "message.head()"
      ]
    },
    {
      "cell_type": "markdown",
      "metadata": {
        "_uuid": "5e2f95355679b639ab482560c0d8d21a28272cd5",
        "id": "aoigZ9qH8qdf"
      },
      "source": [
        "Now let's \"tokenize\" these messages. Tokenization is just the term used to describe the process of converting the normal text strings in to a list of tokens (words that we actually want).\n",
        "\n",
        "Let's see an example output on on column:\n",
        "\n",
        "**Note:**\n",
        "We may get some warnings or errors for symbols we didn't account for or that weren't in Unicode (like a British pound symbol)"
      ]
    },
    {
      "cell_type": "code",
      "execution_count": null,
      "metadata": {
        "_uuid": "5430151da61ebb4d752d299820d7178497419773",
        "trusted": true,
        "id": "lDpwFa3T8qdg"
      },
      "outputs": [],
      "source": [
        "message['message'].head(5).apply(text_process)"
      ]
    },
    {
      "cell_type": "code",
      "execution_count": null,
      "metadata": {
        "_uuid": "1f75d8f2fd2b5b1ad19f98fc0d4298198b37dcd3",
        "trusted": true,
        "id": "vuL_riFD8qdg"
      },
      "outputs": [],
      "source": [
        "message.head()"
      ]
    },
    {
      "cell_type": "markdown",
      "metadata": {
        "_uuid": "15d721555b0ebfcc9e90e5cf3ada2493fb4581c8",
        "id": "vXt6aC4K8qdg"
      },
      "source": [
        "### Continuing Normalization\n",
        "\n",
        "There are a lot of ways to continue normalizing this text. Such as [Stemming](https://en.wikipedia.org/wiki/Stemming) or distinguishing by [part of speech](http://www.nltk.org/book/ch05.html).\n",
        "\n",
        "NLTK has lots of built-in tools and great documentation on a lot of these methods. Sometimes they don't work well for text-messages due to the way a lot of people tend to use abbreviations or shorthand, For example:\n",
        "    \n",
        "    'Nah dawg, IDK! Wut time u headin to da club?'\n",
        "    \n",
        "versus\n",
        "\n",
        "    'No dog, I don't know! What time are you heading to the club?'\n",
        "    \n",
        "Some text normalization methods will have trouble with this type of shorthand and so I'll leave you to explore those more advanced methods through the [NLTK book online](http://www.nltk.org/book/).\n",
        "\n",
        "For now we will just focus on using what we have to convert our list of words to an actual vector that SciKit-Learn can use."
      ]
    },
    {
      "cell_type": "markdown",
      "metadata": {
        "_uuid": "d2de9a06cee7a0f7a6e287c06c34d603c6a50e9a",
        "id": "Li8rMLPP8qdg"
      },
      "source": [
        "## Vectorization"
      ]
    },
    {
      "cell_type": "markdown",
      "metadata": {
        "_uuid": "57e259f62b8798fb7fb68e4e2e9c1bb674cb8096",
        "trusted": true,
        "id": "ETHGNAmS8qdg"
      },
      "source": [
        "Currently, we have the messages as lists of tokens (also known as [lemmas](http://nlp.stanford.edu/IR-book/html/htmledition/stemming-and-lemmatization-1.html)) and now we need to convert each of those messages into a vector the SciKit Learn's algorithm models can work with.\n",
        "\n",
        "Now we'll convert each message, represented as a list of tokens (lemmas) above, into a vector that machine learning models can understand.\n",
        "\n",
        "We'll do that in three steps using the bag-of-words model:\n",
        "\n",
        "1. Count how many times does a word occur in each message (Known as term frequency)\n",
        "\n",
        "2. Weigh the counts, so that frequent tokens get lower weight (inverse document frequency)\n",
        "\n",
        "3. Normalize the vectors to unit length, to abstract from the original text length (L2 norm)\n",
        "\n",
        "Let's begin the first step:"
      ]
    },
    {
      "cell_type": "markdown",
      "metadata": {
        "_uuid": "d5c29a92ec6ff08aae811ccd0acee3510209e9ef",
        "trusted": true,
        "id": "ut5s0HDH8qdg"
      },
      "source": [
        "Each vector will have as many dimensions as there are unique words in the SMS corpus.  We will first use SciKit Learn's **CountVectorizer**. This model will convert a collection of text documents to a matrix of token counts.\n",
        "\n",
        "We can imagine this as a 2-Dimensional matrix. Where the 1-dimension is the entire vocabulary (1 row per word) and the other dimension are the actual documents, in this case a column per text message.\n",
        "\n",
        "For example:\n",
        "\n",
        "<table border = “1“>\n",
        "<tr>\n",
        "<th></th> <th>Message 1</th> <th>Message 2</th> <th>...</th> <th>Message N</th>\n",
        "</tr>\n",
        "<tr>\n",
        "<td><b>Word 1 Count</b></td><td>0</td><td>1</td><td>...</td><td>0</td>\n",
        "</tr>\n",
        "<tr>\n",
        "<td><b>Word 2 Count</b></td><td>0</td><td>0</td><td>...</td><td>0</td>\n",
        "</tr>\n",
        "<tr>\n",
        "<td><b>...</b></td> <td>1</td><td>2</td><td>...</td><td>0</td>\n",
        "</tr>\n",
        "<tr>\n",
        "<td><b>Word N Count</b></td> <td>0</td><td>1</td><td>...</td><td>1</td>\n",
        "</tr>\n",
        "</table>\n",
        "\n",
        "\n",
        "Since there are so many messages, we can expect a lot of zero counts for the presence of that word in that document. Because of this, SciKit Learn will output a [Sparse Matrix](https://en.wikipedia.org/wiki/Sparse_matrix)."
      ]
    },
    {
      "cell_type": "code",
      "execution_count": null,
      "metadata": {
        "_uuid": "6557e2a23e6ca8afbc89c076225174ab5d4e3fb9",
        "trusted": true,
        "id": "khYsi4p08qdh"
      },
      "outputs": [],
      "source": [
        "from sklearn.feature_extraction.text import CountVectorizer"
      ]
    },
    {
      "cell_type": "markdown",
      "metadata": {
        "_uuid": "1ce1441a52b679cda062b14fad0a0124f805c032",
        "id": "8B9qUQW08qdh"
      },
      "source": [
        "Let's take one text message and get its bag-of-words counts as a vector, putting to use our new `bow_transformer`:"
      ]
    },
    {
      "cell_type": "code",
      "execution_count": null,
      "metadata": {
        "_uuid": "4b65ee4da31d8240d0c0bf15eb1efce5cc539be5",
        "trusted": true,
        "id": "6N1SWZ6d8qdh"
      },
      "outputs": [],
      "source": [
        "bow_transformer = CountVectorizer(analyzer=text_process).fit(message['message'])\n",
        "print(len(bow_transformer.vocabulary_))"
      ]
    },
    {
      "cell_type": "code",
      "execution_count": null,
      "metadata": {
        "_uuid": "03ecabf0c884e11c8b037c16908e9d3b53f7585a",
        "trusted": true,
        "id": "MMtuZPUG8qdh"
      },
      "outputs": [],
      "source": [
        "message4=message['message'][3]\n",
        "print(message4)"
      ]
    },
    {
      "cell_type": "markdown",
      "metadata": {
        "_uuid": "62844a431cdf3049f5c9844864a122897782830d",
        "id": "-wA4Z8UV8qdh"
      },
      "source": [
        "Now let's see its vector representation:"
      ]
    },
    {
      "cell_type": "code",
      "execution_count": null,
      "metadata": {
        "_uuid": "56ca67e4fc96e62bb3153401f60657ec4dd2c028",
        "trusted": true,
        "id": "MIX9uOFD8qdi"
      },
      "outputs": [],
      "source": [
        "bow4=bow_transformer.transform([message4])\n",
        "print(bow4)\n",
        "print(bow4.shape)"
      ]
    },
    {
      "cell_type": "markdown",
      "metadata": {
        "_uuid": "a540f8a36c310953c2a9e90eb3ec0252a817d969",
        "id": "aYPL0Msc8qdj"
      },
      "source": [
        "This means that there are seven unique words in message number 4 (after removing common stop words). Two of them appear twice, the rest only once. Let's go ahead and check and confirm which ones appear twice:"
      ]
    },
    {
      "cell_type": "code",
      "execution_count": null,
      "metadata": {
        "_uuid": "5168fb4ad641f712b5d9e6268bf02ea96fdfac62",
        "trusted": true,
        "id": "t4_1WzHz8qdj"
      },
      "outputs": [],
      "source": [
        "print(bow_transformer.get_feature_names()[4073])\n",
        "print(bow_transformer.get_feature_names()[9570])"
      ]
    },
    {
      "cell_type": "markdown",
      "metadata": {
        "_uuid": "1c16e635041e17bd8a2ed10d5c8faedd2e25bbe8",
        "id": "hB8Zw5NM8qdj"
      },
      "source": [
        "Now we can use **.transform** on our Bag-of-Words (bow) transformed object and transform the entire DataFrame of messages. Let's go ahead and check out how the bag-of-words counts for the entire SMS corpus is a large, sparse matrix:"
      ]
    },
    {
      "cell_type": "code",
      "execution_count": null,
      "metadata": {
        "_uuid": "ef1f220f90aba473e05f5ccbdeb8bf15fb30af9a",
        "trusted": true,
        "id": "O2zA6tqv8qdj"
      },
      "outputs": [],
      "source": [
        "messages_bow = bow_transformer.transform(message['message'])"
      ]
    },
    {
      "cell_type": "code",
      "execution_count": null,
      "metadata": {
        "_uuid": "f9b02cbf2950cdaeaee58bf8305ca8fa2f0fb891",
        "trusted": true,
        "id": "gfDq_bdL8qdj"
      },
      "outputs": [],
      "source": [
        "print('Shape of Sparse Matrix: ',messages_bow.shape)\n",
        "print('Amount of non-zero occurences:',messages_bow.nnz)"
      ]
    },
    {
      "cell_type": "code",
      "execution_count": null,
      "metadata": {
        "_uuid": "7db14b4e8ef58a515680cc25d7cb1ec5f5448eb9",
        "trusted": true,
        "id": "iwtWagpD8qdj"
      },
      "outputs": [],
      "source": [
        "sparsity =(100.0 * messages_bow.nnz/(messages_bow.shape[0]*messages_bow.shape[1]))\n",
        "print('sparsity:{}'.format(round(sparsity)))"
      ]
    },
    {
      "cell_type": "markdown",
      "metadata": {
        "_uuid": "ade1fc5330c02afb11de123586aa172255c1653d",
        "id": "feEqyk3V8qdk"
      },
      "source": [
        "After the counting, the term weighting and normalization can be done with [TF-IDF](http://en.wikipedia.org/wiki/Tf%E2%80%93idf), using scikit-learn's `TfidfTransformer`.\n",
        "\n",
        "____\n",
        "### So what is TF-IDF?\n",
        "TF-IDF stands for *term frequency-inverse document frequency*, and the tf-idf weight is a weight often used in information retrieval and text mining. This weight is a statistical measure used to evaluate how important a word is to a document in a collection or corpus. The importance increases proportionally to the number of times a word appears in the document but is offset by the frequency of the word in the corpus. Variations of the tf-idf weighting scheme are often used by search engines as a central tool in scoring and ranking a document's relevance given a user query.\n",
        "\n",
        "One of the simplest ranking functions is computed by summing the tf-idf for each query term; many more sophisticated ranking functions are variants of this simple model.\n",
        "\n",
        "Typically, the tf-idf weight is composed by two terms: the first computes the normalized Term Frequency (TF), aka. the number of times a word appears in a document, divided by the total number of words in that document; the second term is the Inverse Document Frequency (IDF), computed as the logarithm of the number of the documents in the corpus divided by the number of documents where the specific term appears.\n",
        "\n",
        "**TF: Term Frequency**, which measures how frequently a term occurs in a document. Since every document is different in length, it is possible that a term would appear much more times in long documents than shorter ones. Thus, the term frequency is often divided by the document length (aka. the total number of terms in the document) as a way of normalization:\n",
        "\n",
        "*TF(t) = (Number of times term t appears in a document) / (Total number of terms in the document).*\n",
        "\n",
        "**IDF: Inverse Document Frequency**, which measures how important a term is. While computing TF, all terms are considered equally important. However it is known that certain terms, such as \"is\", \"of\", and \"that\", may appear a lot of times but have little importance. Thus we need to weigh down the frequent terms while scale up the rare ones, by computing the following:\n",
        "\n",
        "*IDF(t) = log_e(Total number of documents / Number of documents with term t in it).*\n",
        "\n",
        "See below for a simple example.\n",
        "\n",
        "**Example:**\n",
        "\n",
        "Consider a document containing 100 words wherein the word cat appears 3 times.\n",
        "\n",
        "The term frequency (i.e., tf) for cat is then (3 / 100) = 0.03. Now, assume we have 10 million documents and the word cat appears in one thousand of these. Then, the inverse document frequency (i.e., idf) is calculated as log(10,000,000 / 1,000) = 4. Thus, the Tf-idf weight is the product of these quantities: 0.03 * 4 = 0.12.\n",
        "____\n",
        "\n",
        "Let's go ahead and see how we can do this in SciKit Learn:"
      ]
    },
    {
      "cell_type": "code",
      "execution_count": null,
      "metadata": {
        "_uuid": "3a9ae2839793ada9dd4914750a7fec0f31640d41",
        "trusted": true,
        "id": "1HIOpaGB8qdk"
      },
      "outputs": [],
      "source": [
        "from sklearn.feature_extraction.text import TfidfTransformer\n",
        "tfidf_transformer=TfidfTransformer().fit(messages_bow)\n",
        "tfidf4 = tfidf_transformer.transform(bow4)\n",
        "print(tfidf4)"
      ]
    },
    {
      "cell_type": "markdown",
      "metadata": {
        "_uuid": "69690168ab7a736a9fa22e2a5fe7aeeeb20b9e64",
        "id": "MEHRcwoo8qdk"
      },
      "source": [
        "We'll go ahead and check what is the IDF (inverse document frequency) of the word `\"u\"` and of word `\"university\"`?"
      ]
    },
    {
      "cell_type": "code",
      "execution_count": null,
      "metadata": {
        "_uuid": "2f2fff75079767f27aea5785d88ae485c1602a11",
        "trusted": true,
        "id": "gGdWfrHu8qdk"
      },
      "outputs": [],
      "source": [
        "print(tfidf_transformer.idf_[bow_transformer.vocabulary_['u']])\n",
        "print(tfidf_transformer.idf_[bow_transformer.vocabulary_['university']])"
      ]
    },
    {
      "cell_type": "code",
      "execution_count": null,
      "metadata": {
        "_uuid": "bacb5be16f8664e102d3cde0403345cfb4d7ace0",
        "trusted": true,
        "id": "oA00A3uO8qdk"
      },
      "outputs": [],
      "source": [
        "messages_tfidf=tfidf_transformer.transform(messages_bow)\n",
        "print(messages_tfidf.shape)"
      ]
    },
    {
      "cell_type": "markdown",
      "metadata": {
        "_uuid": "c10784a772d83f3d6cbeea66cc53a6fd6e650906",
        "id": "DLmIWrgh8qdk"
      },
      "source": [
        "There are many ways the data can be preprocessed and vectorized. These steps involve feature engineering and building a \"pipeline\". I encourage you to check out SciKit Learn's documentation on dealing with text data as well as the expansive collection of available papers and books on the general topic of NLP."
      ]
    },
    {
      "cell_type": "markdown",
      "metadata": {
        "_uuid": "b830e24a445ee72dd3fb62104f1b41cc0c3b1fb8",
        "id": "YbgCN3ek8qdl"
      },
      "source": [
        "## Training a model"
      ]
    },
    {
      "cell_type": "markdown",
      "metadata": {
        "_uuid": "e2c83a25b80617a905e8c15938de7347b0b7c5e5",
        "id": "Cqj2M3K48qdl"
      },
      "source": [
        "With messages represented as vectors, we can finally train our spam/ham classifier. Now we can actually use almost any sort of classification algorithms. For a [variety of reasons](http://www.inf.ed.ac.uk/teaching/courses/inf2b/learnnotes/inf2b-learn-note07-2up.pdf), the Naive Bayes classifier algorithm is a good choice."
      ]
    },
    {
      "cell_type": "code",
      "execution_count": null,
      "metadata": {
        "_uuid": "9ae436fe7af2fca2dc7b0fd25d44567c88aa24b8",
        "trusted": true,
        "id": "xSA6vhz68qdl"
      },
      "outputs": [],
      "source": [
        "from sklearn.naive_bayes import MultinomialNB\n",
        "spam_detect_model = MultinomialNB().fit(messages_tfidf,message['labels'])"
      ]
    },
    {
      "cell_type": "code",
      "execution_count": null,
      "metadata": {
        "_uuid": "826b17d398f15736babd339a818b5ca106b0bf5d",
        "trusted": true,
        "id": "GRtmjly_8qdl"
      },
      "outputs": [],
      "source": [
        "print('predicted:',spam_detect_model.predict(tfidf4)[0])\n",
        "print('expected:',message.labels[3])"
      ]
    },
    {
      "cell_type": "markdown",
      "metadata": {
        "_uuid": "5defe5dcce62c4d9fa8484577c03a0e1e8d0f31f",
        "id": "oaUtYVkq8qdl"
      },
      "source": [
        "Fantastic! We've developed a model that can attempt to predict spam vs ham classification!\n",
        "\n",
        "## Part 6: Model Evaluation\n",
        "Now we want to determine how well our model will do overall on the entire dataset. Let's begin by getting all the predictions:"
      ]
    },
    {
      "cell_type": "code",
      "execution_count": null,
      "metadata": {
        "_uuid": "ec8da8377b39df50b6c459840c809c30d69387e8",
        "trusted": true,
        "id": "thZlDPZC8qdl"
      },
      "outputs": [],
      "source": [
        "all_predictions = spam_detect_model.predict(messages_tfidf)\n",
        "print(all_predictions)"
      ]
    },
    {
      "cell_type": "markdown",
      "metadata": {
        "_uuid": "132b52f3912f267fee8719b011967e354bb883b1",
        "id": "ni0EFGDg8qdm"
      },
      "source": [
        "We can use SciKit Learn's built-in classification report, which returns [precision, recall,](https://en.wikipedia.org/wiki/Precision_and_recall) [f1-score](https://en.wikipedia.org/wiki/F1_score), and a column for support (meaning how many cases supported that classification). Check out the links for more detailed info on each of these metrics and the figure below:"
      ]
    },
    {
      "cell_type": "markdown",
      "metadata": {
        "_uuid": "4a795a2c3932edc688612ac1b65b9855b80f3e31",
        "id": "pSGGIuE88qdm"
      },
      "source": [
        "<img src='https://upload.wikimedia.org/wikipedia/commons/thumb/2/26/Precisionrecall.svg/700px-Precisionrecall.svg.png' width=400 />"
      ]
    },
    {
      "cell_type": "code",
      "execution_count": null,
      "metadata": {
        "_uuid": "03ac047e8e9e996e7723e901bf00fd7478ab9755",
        "trusted": true,
        "id": "oa_nwv4T8qdm"
      },
      "outputs": [],
      "source": [
        "from sklearn.metrics import classification_report,confusion_matrix\n",
        "print(classification_report(message['labels'],all_predictions))\n",
        "print(confusion_matrix(message['labels'],all_predictions))"
      ]
    },
    {
      "cell_type": "markdown",
      "metadata": {
        "_uuid": "33aec3feb1cd1af096ed3d63bf2c9a0801097da8",
        "id": "hhzts4WH8qdm"
      },
      "source": [
        "There are quite a few possible metrics for evaluating model performance. Which one is the most important depends on the task and the business effects of decisions based off of the model. For example, the cost of mis-predicting \"spam\" as \"ham\" is probably much lower than mis-predicting \"ham\" as \"spam\"."
      ]
    },
    {
      "cell_type": "markdown",
      "metadata": {
        "_uuid": "4e9749211d2a4f0fc80a07a7c4ecb3b642ad177a",
        "id": "E24WmdRF8qdm"
      },
      "source": [
        "In the above \"evaluation\",we evaluated accuracy on the same data we used for training. **You should never actually evaluate on the same dataset you train on!**\n",
        "\n",
        "Such evaluation tells us nothing about the true predictive power of our model. If we simply remembered each example during training, the accuracy on training data would trivially be 100%, even though we wouldn't be able to classify any new messages.\n",
        "\n",
        "A proper way is to split the data into a training/test set, where the model only ever sees the **training data** during its model fitting and parameter tuning. The **test data** is never used in any way. This is then our final evaluation on test data is representative of true predictive performance.\n",
        "\n",
        "## Train Test Split"
      ]
    },
    {
      "cell_type": "code",
      "execution_count": null,
      "metadata": {
        "_uuid": "1220b3cc2df7226c69142385389249f6184431f0",
        "trusted": true,
        "id": "9sijLWCX8qdm"
      },
      "outputs": [],
      "source": [
        "from sklearn.model_selection import train_test_split\n",
        "msg_train,msg_test,label_train,label_test = train_test_split(message['message'],message['labels'],test_size=0.2)"
      ]
    },
    {
      "cell_type": "code",
      "execution_count": null,
      "metadata": {
        "_uuid": "4d02357c5e4fc2ed9559137d536bd36b79f9aec5",
        "trusted": true,
        "id": "0O2NiIzV8qdm"
      },
      "outputs": [],
      "source": [
        "print(len(msg_train),len(msg_test),len(label_train),len(label_test))"
      ]
    },
    {
      "cell_type": "markdown",
      "metadata": {
        "_uuid": "bc9fac58a3cf747268d12e1c7ae4ffd5614d768a",
        "id": "dscFIjtV8qdm"
      },
      "source": [
        "The test size is 20% of the entire dataset (1115 messages out of total 5572), and the training is the rest (4457 out of 5572). Note the default split would have been 30/70.\n",
        "\n",
        "## Creating a Data Pipeline\n",
        "\n",
        "Let's run our model again and then predict off the test set. We will use SciKit Learn's [pipeline](http://scikit-learn.org/stable/modules/pipeline.html) capabilities to store a pipeline of workflow. This will allow us to set up all the transformations that we will do to the data for future use. Let's see an example of how it works:"
      ]
    },
    {
      "cell_type": "code",
      "execution_count": null,
      "metadata": {
        "_uuid": "1ada4928b3c84d707cb0d8ba009208beb0fb5875",
        "trusted": true,
        "id": "8aAUtRan8qdn"
      },
      "outputs": [],
      "source": [
        "from sklearn.pipeline import Pipeline\n",
        "pipeline = Pipeline([\n",
        "   ( 'bow',CountVectorizer(analyzer=text_process)),\n",
        "    ('tfidf',TfidfTransformer()),\n",
        "    ('classifier',MultinomialNB()),\n",
        "])"
      ]
    },
    {
      "cell_type": "code",
      "execution_count": null,
      "metadata": {
        "_uuid": "b5d432a98dce22cef0d3a50b819a396b14eb136a",
        "trusted": true,
        "id": "y3S4hYJw8qdn"
      },
      "outputs": [],
      "source": [
        "pipeline.fit(msg_train,label_train)"
      ]
    },
    {
      "cell_type": "code",
      "execution_count": null,
      "metadata": {
        "_uuid": "4fa22ff9485a4e4773bd5f746cf34673b7828947",
        "trusted": true,
        "id": "Q5rYiymX8qdn"
      },
      "outputs": [],
      "source": [
        "predictions = pipeline.predict(msg_test)"
      ]
    },
    {
      "cell_type": "code",
      "execution_count": null,
      "metadata": {
        "_uuid": "5ac4e7070129d1d233e5d8328c03e484affb332a",
        "trusted": true,
        "id": "dMncBx9y8qdn"
      },
      "outputs": [],
      "source": [
        "print(classification_report(predictions,label_test))"
      ]
    },
    {
      "cell_type": "markdown",
      "metadata": {
        "_uuid": "7026b1e91d03630775f04d5fd6334ce0d775ec78",
        "id": "Fej8CgB88qdn"
      },
      "source": [
        "The test size is 20% of the entire dataset (1115 messages out of total 5572), and the training is the rest (4457 out of 5572). Note the default split would have been 30/70.\n",
        "\n"
      ]
    }
  ],
  "metadata": {
    "kernelspec": {
      "display_name": "Python 3",
      "language": "python",
      "name": "python3"
    },
    "language_info": {
      "codemirror_mode": {
        "name": "ipython",
        "version": 3
      },
      "file_extension": ".py",
      "mimetype": "text/x-python",
      "name": "python",
      "nbconvert_exporter": "python",
      "pygments_lexer": "ipython3",
      "version": "3.10.11"
    },
    "colab": {
      "provenance": [],
      "include_colab_link": true
    }
  },
  "nbformat": 4,
  "nbformat_minor": 0
}
